{
 "cells": [
  {
   "cell_type": "code",
   "execution_count": 1,
   "id": "37011fbf-7619-4587-8296-809f179510bf",
   "metadata": {},
   "outputs": [
    {
     "name": "stdout",
     "output_type": "stream",
     "text": [
      "Q1: Reject null hypothesis\n",
      "Q2: Reject null hypothesis\n"
     ]
    }
   ],
   "source": [
    "import scipy.stats as stats\n",
    "\n",
    "# Question 1\n",
    "# Given data\n",
    "mean1 = 11\n",
    "sample_size1 = 1000\n",
    "sample_mean1 = 11.5\n",
    "sd1 = 2.3\n",
    "alpha1 = 0.05\n",
    "\n",
    "# Calculate z test statistics\n",
    "z_score1 = (sample_mean1 - mean1) / (sd1 / (sample_size1 ** 0.5))\n",
    "\n",
    "# Calculate the critical value\n",
    "critical_value1 = stats.norm.ppf(1 - alpha1)\n",
    "\n",
    "# Compare the z score with the critical value and make a decision\n",
    "if z_score1 > critical_value1:\n",
    "    print(\"Q1: Reject null hypothesis\")\n",
    "else:\n",
    "    print(\"Q1: Fail to reject null hypothesis\")\n",
    "\n",
    "# Question 2\n",
    "# Given data\n",
    "mean2 = 5\n",
    "sample_size2 = 40\n",
    "sample_mean2 = 4.6\n",
    "sd2 = 0.8\n",
    "alpha2 = 0.05\n",
    "\n",
    "# Calculate t test statistics\n",
    "t_score2 = (sample_mean2 - mean2) / (sd2 / (sample_size2 ** 0.5))\n",
    "\n",
    "# Calculate the critical value\n",
    "critical_value2 = stats.t.ppf(alpha2, df=sample_size2 - 1)\n",
    "\n",
    "# Compare the t score with the critical value and make a decision\n",
    "if t_score2 < critical_value2:\n",
    "    print(\"Q2: Reject null hypothesis\")\n",
    "else:\n",
    "    print(\"Q2: Fail to reject null hypothesis\")\n"
   ]
  },
  {
   "cell_type": "code",
   "execution_count": null,
   "id": "0bfc85b7-4053-4f37-b91a-fd5c136a54a1",
   "metadata": {},
   "outputs": [],
   "source": []
  }
 ],
 "metadata": {
  "kernelspec": {
   "display_name": "Python 3 (ipykernel)",
   "language": "python",
   "name": "python3"
  },
  "language_info": {
   "codemirror_mode": {
    "name": "ipython",
    "version": 3
   },
   "file_extension": ".py",
   "mimetype": "text/x-python",
   "name": "python",
   "nbconvert_exporter": "python",
   "pygments_lexer": "ipython3",
   "version": "3.11.4"
  }
 },
 "nbformat": 4,
 "nbformat_minor": 5
}
